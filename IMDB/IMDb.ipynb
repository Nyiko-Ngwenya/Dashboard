{
 "cells": [
  {
   "cell_type": "code",
   "execution_count": null,
   "metadata": {},
   "outputs": [],
   "source": [
    "import pandas as pd\n",
    "import numpy as np\n",
    "import seaborn as sns\n",
    "import plotly\n",
    "import plotly.graph_objs as go\n",
    "from plotly.offline import download_plotlyjs,init_notebook_mode,plot,iplot\n",
    "import re\n",
    "import dash\n",
    "import dash_core_components as dcc\n",
    "import dash_html_components as html"
   ]
  },
  {
   "cell_type": "code",
   "execution_count": null,
   "metadata": {},
   "outputs": [],
   "source": [
    "init_notebook_mode(connected=True)"
   ]
  },
  {
   "cell_type": "code",
   "execution_count": null,
   "metadata": {},
   "outputs": [],
   "source": [
    "x = np.linspace(0,np.pi,1000)\n",
    "\n",
    "layout = go.Layout(\n",
    "    title=\"Simple Example\",\n",
    "    yaxis=dict(\n",
    "        title='volts'\n",
    "    ),\n",
    "    xaxis=dict(\n",
    "        title='nanosecs'\n",
    "    )\n",
    ")\n",
    "\n",
    "tracel = go.Scatter(\n",
    "    x=x,\n",
    "    y=np.sin(x),\n",
    "    mode='lines',\n",
    "    name='sin(x)',\n",
    "    line=dict(\n",
    "    shape='spline'\n",
    "    )\n",
    ")\n",
    "\n",
    "fig = go.Figure(data=[tracel],layout=layout)\n",
    "iplot(fig)"
   ]
  },
  {
   "cell_type": "code",
   "execution_count": null,
   "metadata": {},
   "outputs": [],
   "source": [
    "data = pd.read_csv(\"data.csv\",low_memory=False)"
   ]
  },
  {
   "cell_type": "code",
   "execution_count": null,
   "metadata": {},
   "outputs": [],
   "source": [
    "data.head()"
   ]
  },
  {
   "cell_type": "code",
   "execution_count": null,
   "metadata": {},
   "outputs": [],
   "source": [
    "data = data.dropna()\n",
    "data = data.reindex()"
   ]
  },
  {
   "cell_type": "code",
   "execution_count": null,
   "metadata": {},
   "outputs": [],
   "source": [
    "data"
   ]
  },
  {
   "cell_type": "code",
   "execution_count": null,
   "metadata": {},
   "outputs": [],
   "source": [
    "data.info()"
   ]
  },
  {
   "cell_type": "code",
   "execution_count": null,
   "metadata": {},
   "outputs": [],
   "source": [
    "data.dtypes"
   ]
  },
  {
   "cell_type": "code",
   "execution_count": null,
   "metadata": {},
   "outputs": [],
   "source": [
    "def cleanText(stringz):\n",
    "    stringz = stringz.strip()\n",
    "    return stringz"
   ]
  },
  {
   "cell_type": "code",
   "execution_count": null,
   "metadata": {},
   "outputs": [],
   "source": [
    "def cleanNumerics(stringz):\n",
    "    pattern = r'-?\\d+'\n",
    "    collectedNumber = re.findall(pattern, stringz)\n",
    "    return collectedNumber[0]"
   ]
  },
  {
   "cell_type": "code",
   "execution_count": null,
   "metadata": {},
   "outputs": [],
   "source": [
    "def cleanVotes(stringz):\n",
    "    stringz = stringz.replace(',','')\n",
    "    return stringz"
   ]
  },
  {
   "cell_type": "code",
   "execution_count": null,
   "metadata": {},
   "outputs": [],
   "source": [
    "def cleanAmount(stringz):\n",
    "    stringz = stringz.replace('$','')\n",
    "    stringz = stringz.replace('M','')\n",
    "    return stringz"
   ]
  },
  {
   "cell_type": "code",
   "execution_count": null,
   "metadata": {},
   "outputs": [],
   "source": [
    "data['Genre'] = data[\"Genre\"].apply(lambda x : cleanText(x))"
   ]
  },
  {
   "cell_type": "code",
   "execution_count": null,
   "metadata": {},
   "outputs": [],
   "source": [
    "data['Synopsis'] = data[\"Synopsis\"].apply(lambda x : cleanText(x))"
   ]
  },
  {
   "cell_type": "code",
   "execution_count": null,
   "metadata": {},
   "outputs": [],
   "source": [
    "data['Runtime'] = data[\"Runtime\"].apply(lambda x : cleanNumerics(x))"
   ]
  },
  {
   "cell_type": "code",
   "execution_count": null,
   "metadata": {},
   "outputs": [],
   "source": [
    "data['Year'] = data[\"Year\"].apply(lambda x : cleanNumerics(x))"
   ]
  },
  {
   "cell_type": "code",
   "execution_count": null,
   "metadata": {},
   "outputs": [],
   "source": [
    "data['Votes'] = data['Votes'].apply(lambda x : cleanVotes(x))"
   ]
  },
  {
   "cell_type": "code",
   "execution_count": null,
   "metadata": {},
   "outputs": [],
   "source": [
    "data['Gross Amount'] = data['Gross Amount'].apply(lambda x : cleanAmount(x))   "
   ]
  },
  {
   "cell_type": "code",
   "execution_count": null,
   "metadata": {},
   "outputs": [],
   "source": [
    "data.astype({'Runtime': 'int64','Year': 'int64','Runtime': 'int64','Votes': 'int64','Gross Amount': 'float64' }).dtypes"
   ]
  },
  {
   "cell_type": "code",
   "execution_count": null,
   "metadata": {},
   "outputs": [],
   "source": [
    "data.head()"
   ]
  },
  {
   "cell_type": "code",
   "execution_count": null,
   "metadata": {},
   "outputs": [],
   "source": [
    "data.to_csv ('clean_data.csv')"
   ]
  },
  {
   "cell_type": "code",
   "execution_count": null,
   "metadata": {},
   "outputs": [],
   "source": [
    "# # x = data['Votes']\n",
    "\n",
    "# # layout = go.Layout(\n",
    "# #     title=\"Simple Example\",\n",
    "# #     yaxis=dict(\n",
    "# #         title='Runtime of Movies'\n",
    "# #     ),\n",
    "# #     xaxis=dict(\n",
    "# #         title='Number of Votes'\n",
    "# #     )\n",
    "# # )\n",
    "\n",
    "# # tracel = go.Scatter(\n",
    "# #     x=x,\n",
    "# #     y=data['Runtime'],\n",
    "# #     mode='markers',\n",
    "# #     name='sin(x)',\n",
    "# #     line=dict(\n",
    "# #     shape='spline'\n",
    "# #     )\n",
    "# # )\n",
    "\n",
    "# layout = html.Div([\n",
    "#     html.H1(children='US Agriculture Exports (2011)'),\n",
    "#     dcc.Graph(\n",
    "#         id='life-exp-vs-gdp',\n",
    "#         figure={\n",
    "#             'data': [\n",
    "#                 go.Scatter(\n",
    "#                     # x=df[df['continent'] == i]['gdp per capita'],\n",
    "#                     # y=df[df['continent'] == i]['life expectancy'],\n",
    "#                     # text=df[df['continent'] == i]['country'],\n",
    "#                     x=data[data['Year'] == i]['Metascore'],\n",
    "#                     y=data[data['Year'] == i]['Gross Amount'],\n",
    "#                     text=data[data['Year'] == i]['Movie_Name'],\n",
    "#                     mode='markers',\n",
    "#                     opacity=0.7,\n",
    "#                     marker={\n",
    "#                         'size': 15,\n",
    "#                         'line': {'width': 0.5, 'color': 'white'}\n",
    "#                     },\n",
    "#                     name=i\n",
    "#                 ) #for i in df.continent.unique()\n",
    "#                   for i in data.Year.unique()\n",
    "#             ],\n",
    "#             'layout': go.Layout(\n",
    "#                 xaxis={'type': 'log', 'title': 'GDP Per Capita'},\n",
    "#                 yaxis={'title': 'Life Expectancy'},\n",
    "#                 margin={'l': 40, 'b': 40, 't': 10, 'r': 10},\n",
    "#                 legend={'x': 0, 'y': 1},\n",
    "#                 hovermode='closest'\n",
    "#             )\n",
    "#         }\n",
    "#     )\n",
    "# ])\n",
    "\n",
    "# fig = go.Figure(data=figure,layout=layout)\n",
    "# iplot(fig)"
   ]
  },
  {
   "cell_type": "code",
   "execution_count": null,
   "metadata": {},
   "outputs": [],
   "source": [
    "data.head(10)\n",
    "data.Genre"
   ]
  },
  {
   "cell_type": "code",
   "execution_count": null,
   "metadata": {},
   "outputs": [],
   "source": [
    "df1 = pd.read_csv('clean_data.csv')\n",
    "dope = df1[df1['Metascore']==99.0]\n",
    "dope"
   ]
  },
  {
   "cell_type": "code",
   "execution_count": null,
   "metadata": {},
   "outputs": [],
   "source": [
    "asd = df1.groupby('Year',as_index=False)\n",
    "asd"
   ]
  },
  {
   "cell_type": "code",
   "execution_count": null,
   "metadata": {},
   "outputs": [],
   "source": [
    "#asd.first() "
   ]
  },
  {
   "cell_type": "code",
   "execution_count": null,
   "metadata": {},
   "outputs": [],
   "source": [
    "#sd['Votes'].sum()"
   ]
  },
  {
   "cell_type": "code",
   "execution_count": null,
   "metadata": {},
   "outputs": [],
   "source": [
    "qaz = asd['Gross Amount'].sum()\n",
    "qaz['Gross Amount'] = qaz['Gross Amount']*1000000\n",
    "s2 = qaz.astype('int64')\n",
    "s2.info()\n",
    "s2.head()\n",
    "# type(qaz)\n",
    "# qaz = pd.DataFrame(qaz)"
   ]
  },
  {
   "cell_type": "code",
   "execution_count": null,
   "metadata": {},
   "outputs": [],
   "source": [
    "type(qaz['Gross Amount'][0])"
   ]
  },
  {
   "cell_type": "code",
   "execution_count": null,
   "metadata": {},
   "outputs": [],
   "source": [
    "plt."
   ]
  },
  {
   "cell_type": "code",
   "execution_count": null,
   "metadata": {},
   "outputs": [],
   "source": [
    "w = 56.63\n",
    "q = 1.2\n",
    "z = 1200000\n",
    "\n",
    "zxc = z / q\n",
    "zxc"
   ]
  },
  {
   "cell_type": "code",
   "execution_count": null,
   "metadata": {},
   "outputs": [],
   "source": [
    "print(w * 1000000)"
   ]
  },
  {
   "cell_type": "code",
   "execution_count": null,
   "metadata": {},
   "outputs": [],
   "source": [
    "df1['Gross Amount'] = df1['Gross Amount']*1000000"
   ]
  },
  {
   "cell_type": "code",
   "execution_count": null,
   "metadata": {},
   "outputs": [],
   "source": [
    "df1['Gross Amount']"
   ]
  },
  {
   "cell_type": "code",
   "execution_count": 6,
   "metadata": {},
   "outputs": [
    {
     "name": "stdout",
     "output_type": "stream",
     "text": [
      "Unnamed: 0 1244\n",
      "Movie_Name 1239\n",
      "Genre 64\n",
      "Runtime 77\n",
      "Year 59\n",
      "Synopsis 1242\n",
      "Votes 1228\n",
      "Gross Amount 859\n",
      "Rating 56\n",
      "Metascore 90\n"
     ]
    }
   ],
   "source": [
    "import pandas as pd\n",
    "df1 = pd.read_csv('clean_data.csv')\n",
    "for i in df1.columns:\n",
    "    print(i,df1[i].value_counts().count())"
   ]
  },
  {
   "cell_type": "code",
   "execution_count": 9,
   "metadata": {},
   "outputs": [
    {
     "data": {
      "text/plain": [
       "array([7.5, 6.9, 7.6, 8. , 6.5, 6.3, 7. , 7.8, 6.8, 5.9, 8.6, 6.7, 7.3,\n",
       "       7.2, 6. , 6.2, 7.7, 6.1, 7.4, 7.1, 8.3, 5.8, 6.4, 5.2, 6.6, 5.6,\n",
       "       5.5, 5.1, 5.7, 8.2, 4.5, 5.3, 5.4, 4.6, 4.4, 4. , 7.9, 3.6, 4.7,\n",
       "       8.5, 4.8, 1.9, 8.1, 4.9, 2.5, 3.5, 4.3, 5. , 3.8, 2.8, 2.1, 4.2,\n",
       "       3.9, 3.2, 3.3, 4.1])"
      ]
     },
     "execution_count": 9,
     "metadata": {},
     "output_type": "execute_result"
    }
   ],
   "source": [
    "df1['Rating'].unique()"
   ]
  },
  {
   "cell_type": "code",
   "execution_count": 13,
   "metadata": {},
   "outputs": [],
   "source": [
    "new_list= df1['Rating'].round()"
   ]
  },
  {
   "cell_type": "code",
   "execution_count": 15,
   "metadata": {},
   "outputs": [
    {
     "data": {
      "text/plain": [
       "pandas.core.series.Series"
      ]
     },
     "execution_count": 15,
     "metadata": {},
     "output_type": "execute_result"
    }
   ],
   "source": [
    "type(new_list)"
   ]
  },
  {
   "cell_type": "code",
   "execution_count": 17,
   "metadata": {},
   "outputs": [],
   "source": [
    "zxc = new_list.value_counts()"
   ]
  },
  {
   "cell_type": "code",
   "execution_count": 18,
   "metadata": {},
   "outputs": [
    {
     "data": {
      "text/plain": [
       "pandas.core.series.Series"
      ]
     },
     "execution_count": 18,
     "metadata": {},
     "output_type": "execute_result"
    }
   ],
   "source": [
    "type(zxc)"
   ]
  },
  {
   "cell_type": "code",
   "execution_count": 20,
   "metadata": {},
   "outputs": [],
   "source": [
    "zxc = pd.DataFrame(zxc)"
   ]
  },
  {
   "cell_type": "code",
   "execution_count": 21,
   "metadata": {},
   "outputs": [
    {
     "data": {
      "text/html": [
       "<div>\n",
       "<style scoped>\n",
       "    .dataframe tbody tr th:only-of-type {\n",
       "        vertical-align: middle;\n",
       "    }\n",
       "\n",
       "    .dataframe tbody tr th {\n",
       "        vertical-align: top;\n",
       "    }\n",
       "\n",
       "    .dataframe thead th {\n",
       "        text-align: right;\n",
       "    }\n",
       "</style>\n",
       "<table border=\"1\" class=\"dataframe\">\n",
       "  <thead>\n",
       "    <tr style=\"text-align: right;\">\n",
       "      <th></th>\n",
       "      <th>Rating</th>\n",
       "    </tr>\n",
       "  </thead>\n",
       "  <tbody>\n",
       "    <tr>\n",
       "      <td>6.0</td>\n",
       "      <td>580</td>\n",
       "    </tr>\n",
       "    <tr>\n",
       "      <td>7.0</td>\n",
       "      <td>404</td>\n",
       "    </tr>\n",
       "    <tr>\n",
       "      <td>5.0</td>\n",
       "      <td>146</td>\n",
       "    </tr>\n",
       "    <tr>\n",
       "      <td>8.0</td>\n",
       "      <td>72</td>\n",
       "    </tr>\n",
       "    <tr>\n",
       "      <td>4.0</td>\n",
       "      <td>33</td>\n",
       "    </tr>\n",
       "    <tr>\n",
       "      <td>3.0</td>\n",
       "      <td>5</td>\n",
       "    </tr>\n",
       "    <tr>\n",
       "      <td>2.0</td>\n",
       "      <td>3</td>\n",
       "    </tr>\n",
       "    <tr>\n",
       "      <td>9.0</td>\n",
       "      <td>1</td>\n",
       "    </tr>\n",
       "  </tbody>\n",
       "</table>\n",
       "</div>"
      ],
      "text/plain": [
       "     Rating\n",
       "6.0     580\n",
       "7.0     404\n",
       "5.0     146\n",
       "8.0      72\n",
       "4.0      33\n",
       "3.0       5\n",
       "2.0       3\n",
       "9.0       1"
      ]
     },
     "execution_count": 21,
     "metadata": {},
     "output_type": "execute_result"
    }
   ],
   "source": [
    "zxc"
   ]
  },
  {
   "cell_type": "code",
   "execution_count": 22,
   "metadata": {},
   "outputs": [
    {
     "data": {
      "text/plain": [
       "Index(['Rating'], dtype='object')"
      ]
     },
     "execution_count": 22,
     "metadata": {},
     "output_type": "execute_result"
    }
   ],
   "source": [
    "zxc.columns"
   ]
  },
  {
   "cell_type": "code",
   "execution_count": 23,
   "metadata": {},
   "outputs": [
    {
     "data": {
      "text/plain": [
       "Float64Index([6.0, 7.0, 5.0, 8.0, 4.0, 3.0, 2.0, 9.0], dtype='float64')"
      ]
     },
     "execution_count": 23,
     "metadata": {},
     "output_type": "execute_result"
    }
   ],
   "source": [
    "zxc.index"
   ]
  },
  {
   "cell_type": "code",
   "execution_count": 24,
   "metadata": {},
   "outputs": [],
   "source": [
    "new_list_rating = df1['Rating'].round().unique()"
   ]
  },
  {
   "cell_type": "code",
   "execution_count": 29,
   "metadata": {},
   "outputs": [
    {
     "name": "stdout",
     "output_type": "stream",
     "text": [
      "8.0\n",
      "7.0\n",
      "6.0\n",
      "9.0\n",
      "5.0\n",
      "4.0\n",
      "2.0\n",
      "3.0\n"
     ]
    }
   ],
   "source": [
    "for i in new_list_rating:\n",
    "    print(i)"
   ]
  },
  {
   "cell_type": "code",
   "execution_count": 36,
   "metadata": {},
   "outputs": [],
   "source": [
    "jack = [str(i)+'/10 Rating' for i in zxc.index]"
   ]
  },
  {
   "cell_type": "code",
   "execution_count": 37,
   "metadata": {},
   "outputs": [
    {
     "data": {
      "text/plain": [
       "['6.0/10 Rating',\n",
       " '7.0/10 Rating',\n",
       " '5.0/10 Rating',\n",
       " '8.0/10 Rating',\n",
       " '4.0/10 Rating',\n",
       " '3.0/10 Rating',\n",
       " '2.0/10 Rating',\n",
       " '9.0/10 Rating']"
      ]
     },
     "execution_count": 37,
     "metadata": {},
     "output_type": "execute_result"
    }
   ],
   "source": [
    "jack"
   ]
  },
  {
   "cell_type": "code",
   "execution_count": null,
   "metadata": {},
   "outputs": [],
   "source": []
  }
 ],
 "metadata": {
  "kernelspec": {
   "display_name": "Python 3",
   "language": "python",
   "name": "python3"
  },
  "language_info": {
   "codemirror_mode": {
    "name": "ipython",
    "version": 3
   },
   "file_extension": ".py",
   "mimetype": "text/x-python",
   "name": "python",
   "nbconvert_exporter": "python",
   "pygments_lexer": "ipython3",
   "version": "3.7.4"
  }
 },
 "nbformat": 4,
 "nbformat_minor": 4
}
